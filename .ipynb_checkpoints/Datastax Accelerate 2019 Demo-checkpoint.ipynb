{
 "cells": [
  {
   "cell_type": "code",
   "execution_count": 18,
   "metadata": {},
   "outputs": [],
   "source": [
    "%matplotlib inline\n",
    "import logging\n",
    "logging.getLogger('fbprophet').setLevel(logging.ERROR)\n",
    "import warnings\n",
    "warnings.filterwarnings(\"ignore\")"
   ]
  },
  {
   "cell_type": "markdown",
   "metadata": {},
   "source": [
    "## Python API\n",
    "Prophet follows the sklearn model API. We create an instance of the Prophet class and then call its fit and predict methods.\n",
    "\n",
    "The input to Prophet is always a dataframe with two columns: ds and y. The ds (datestamp) column should be of a format expected by Pandas, ideally YYYY-MM-DD for a date or YYYY-MM-DD HH:MM:SS for a timestamp. The y column must be numeric, and represents the measurement we wish to forecast.\n",
    "\n",
    "As an example, let's look at the GWA-T-12 Bitbrains dataset from TU Delft\n",
    "The dataset contains the performance metrics of 1,750 VMs from a distributed datacenter from Bitbrains, which is a service provider that specializes in managed hosting and business computation for enterprises. Customers include many major banks (ING), credit card operators (ICS), insurers (Aegon), etc. Bitbrains hosts applications used in the solvency domain; examples of application vendors are Towers Watson and Algorithmics. These applications are typically used for financial reporting, which is used predominately at the end of financial quarters. T\n",
    "\n",
    "he full CSV dataset is available here. (http://gwa.ewi.tudelft.nl/datasets/gwa-t-12-bitbrains)\n",
    "\n",
    "Each file contains the performance metrics of a VM. \n",
    "\n",
    "First we'll import the data:"
   ]
  },
  {
   "cell_type": "code",
   "execution_count": 19,
   "metadata": {},
   "outputs": [],
   "source": [
    "import pandas as pd\n",
    "from fbprophet import Prophet"
   ]
  },
  {
   "cell_type": "code",
   "execution_count": 20,
   "metadata": {},
   "outputs": [
    {
     "data": {
      "text/html": [
       "<div>\n",
       "<style scoped>\n",
       "    .dataframe tbody tr th:only-of-type {\n",
       "        vertical-align: middle;\n",
       "    }\n",
       "\n",
       "    .dataframe tbody tr th {\n",
       "        vertical-align: top;\n",
       "    }\n",
       "\n",
       "    .dataframe thead th {\n",
       "        text-align: right;\n",
       "    }\n",
       "</style>\n",
       "<table border=\"1\" class=\"dataframe\">\n",
       "  <thead>\n",
       "    <tr style=\"text-align: right;\">\n",
       "      <th></th>\n",
       "      <th>Timestamp [ms]</th>\n",
       "      <th>CPU cores</th>\n",
       "      <th>CPU capacity provisioned [MHZ]</th>\n",
       "      <th>CPU usage [MHZ]</th>\n",
       "      <th>CPU usage [%]</th>\n",
       "      <th>Memory capacity provisioned [KB]</th>\n",
       "      <th>Memory usage [KB]</th>\n",
       "      <th>Disk read throughput [KB/s]</th>\n",
       "      <th>Disk write throughput [KB/s]</th>\n",
       "      <th>Network received throughput [KB/s]</th>\n",
       "      <th>Network transmitted throughput [KB/s]</th>\n",
       "    </tr>\n",
       "  </thead>\n",
       "  <tbody>\n",
       "    <tr>\n",
       "      <th>0</th>\n",
       "      <td>1376314846</td>\n",
       "      <td>1</td>\n",
       "      <td>2599.999304</td>\n",
       "      <td>17.333329</td>\n",
       "      <td>0.666667</td>\n",
       "      <td>2097152.0</td>\n",
       "      <td>157984.800000</td>\n",
       "      <td>0.0</td>\n",
       "      <td>7.800000</td>\n",
       "      <td>0.0</td>\n",
       "      <td>0.266667</td>\n",
       "    </tr>\n",
       "    <tr>\n",
       "      <th>1</th>\n",
       "      <td>1376315146</td>\n",
       "      <td>1</td>\n",
       "      <td>2599.999304</td>\n",
       "      <td>17.333329</td>\n",
       "      <td>0.666667</td>\n",
       "      <td>2097152.0</td>\n",
       "      <td>160780.266667</td>\n",
       "      <td>0.0</td>\n",
       "      <td>7.533333</td>\n",
       "      <td>0.0</td>\n",
       "      <td>0.133333</td>\n",
       "    </tr>\n",
       "    <tr>\n",
       "      <th>2</th>\n",
       "      <td>1376315446</td>\n",
       "      <td>1</td>\n",
       "      <td>2599.999304</td>\n",
       "      <td>17.333329</td>\n",
       "      <td>0.666667</td>\n",
       "      <td>2097152.0</td>\n",
       "      <td>173362.133333</td>\n",
       "      <td>0.0</td>\n",
       "      <td>7.133333</td>\n",
       "      <td>0.0</td>\n",
       "      <td>0.200000</td>\n",
       "    </tr>\n",
       "    <tr>\n",
       "      <th>3</th>\n",
       "      <td>1376315746</td>\n",
       "      <td>1</td>\n",
       "      <td>2599.999304</td>\n",
       "      <td>22.533327</td>\n",
       "      <td>0.866667</td>\n",
       "      <td>2097152.0</td>\n",
       "      <td>226489.866667</td>\n",
       "      <td>0.0</td>\n",
       "      <td>9.000000</td>\n",
       "      <td>0.0</td>\n",
       "      <td>0.666667</td>\n",
       "    </tr>\n",
       "    <tr>\n",
       "      <th>4</th>\n",
       "      <td>1376316046</td>\n",
       "      <td>1</td>\n",
       "      <td>2599.999304</td>\n",
       "      <td>20.799994</td>\n",
       "      <td>0.800000</td>\n",
       "      <td>2097152.0</td>\n",
       "      <td>176159.733333</td>\n",
       "      <td>0.0</td>\n",
       "      <td>7.066667</td>\n",
       "      <td>0.0</td>\n",
       "      <td>0.200000</td>\n",
       "    </tr>\n",
       "  </tbody>\n",
       "</table>\n",
       "</div>"
      ],
      "text/plain": [
       "   Timestamp [ms]  \\tCPU cores  \\tCPU capacity provisioned [MHZ]  \\\n",
       "0      1376314846            1                       2599.999304   \n",
       "1      1376315146            1                       2599.999304   \n",
       "2      1376315446            1                       2599.999304   \n",
       "3      1376315746            1                       2599.999304   \n",
       "4      1376316046            1                       2599.999304   \n",
       "\n",
       "   \\tCPU usage [MHZ]  \\tCPU usage [%]  \\tMemory capacity provisioned [KB]  \\\n",
       "0          17.333329         0.666667                           2097152.0   \n",
       "1          17.333329         0.666667                           2097152.0   \n",
       "2          17.333329         0.666667                           2097152.0   \n",
       "3          22.533327         0.866667                           2097152.0   \n",
       "4          20.799994         0.800000                           2097152.0   \n",
       "\n",
       "   \\tMemory usage [KB]  \\tDisk read throughput [KB/s]  \\\n",
       "0        157984.800000                            0.0   \n",
       "1        160780.266667                            0.0   \n",
       "2        173362.133333                            0.0   \n",
       "3        226489.866667                            0.0   \n",
       "4        176159.733333                            0.0   \n",
       "\n",
       "   \\tDisk write throughput [KB/s]  \\tNetwork received throughput [KB/s]  \\\n",
       "0                        7.800000                                   0.0   \n",
       "1                        7.533333                                   0.0   \n",
       "2                        7.133333                                   0.0   \n",
       "3                        9.000000                                   0.0   \n",
       "4                        7.066667                                   0.0   \n",
       "\n",
       "   \\tNetwork transmitted throughput [KB/s]  \n",
       "0                                 0.266667  \n",
       "1                                 0.133333  \n",
       "2                                 0.200000  \n",
       "3                                 0.666667  \n",
       "4                                 0.200000  "
      ]
     },
     "execution_count": 20,
     "metadata": {},
     "output_type": "execute_result"
    }
   ],
   "source": [
    "df = pd.read_csv('./data/61.csv', sep=\";\")\n",
    "df.head()"
   ]
  },
  {
   "cell_type": "code",
   "execution_count": 21,
   "metadata": {},
   "outputs": [
    {
     "name": "stdout",
     "output_type": "stream",
     "text": [
      "<class 'pandas.core.frame.DataFrame'>\n",
      "RangeIndex: 1105 entries, 0 to 1104\n",
      "Data columns (total 11 columns):\n",
      "Timestamp [ms]                            1105 non-null int64\n",
      "\tCPU cores                                1105 non-null int64\n",
      "\tCPU capacity provisioned [MHZ]           1105 non-null float64\n",
      "\tCPU usage [MHZ]                          1105 non-null float64\n",
      "\tCPU usage [%]                            1105 non-null float64\n",
      "\tMemory capacity provisioned [KB]         1105 non-null float64\n",
      "\tMemory usage [KB]                        1105 non-null float64\n",
      "\tDisk read throughput [KB/s]              1105 non-null float64\n",
      "\tDisk write throughput [KB/s]             1105 non-null float64\n",
      "\tNetwork received throughput [KB/s]       1105 non-null float64\n",
      "\tNetwork transmitted throughput [KB/s]    1105 non-null float64\n",
      "dtypes: float64(9), int64(2)\n",
      "memory usage: 95.0 KB\n"
     ]
    }
   ],
   "source": [
    "df.info()"
   ]
  },
  {
   "cell_type": "code",
   "execution_count": 22,
   "metadata": {},
   "outputs": [
    {
     "data": {
      "text/plain": [
       "<matplotlib.axes._subplots.AxesSubplot at 0x14c023e07b8>"
      ]
     },
     "execution_count": 22,
     "metadata": {},
     "output_type": "execute_result"
    },
    {
     "data": {
      "image/png": "[encoded data removed]",
      "text/plain": [
       "<Figure size 432x288 with 1 Axes>"
      ]
     },
     "metadata": {
      "needs_background": "light"
     },
     "output_type": "display_data"
    }
   ],
   "source": [
    "df.plot(x='Timestamp [ms]', y='\tMemory usage [KB]', style='o')"
   ]
  },
  {
   "cell_type": "code",
   "execution_count": 25,
   "metadata": {},
   "outputs": [
    {
     "data": {
      "text/html": [
       "<div>\n",
       "<style scoped>\n",
       "    .dataframe tbody tr th:only-of-type {\n",
       "        vertical-align: middle;\n",
       "    }\n",
       "\n",
       "    .dataframe tbody tr th {\n",
       "        vertical-align: top;\n",
       "    }\n",
       "\n",
       "    .dataframe thead th {\n",
       "        text-align: right;\n",
       "    }\n",
       "</style>\n",
       "<table border=\"1\" class=\"dataframe\">\n",
       "  <thead>\n",
       "    <tr style=\"text-align: right;\">\n",
       "      <th></th>\n",
       "      <th>Timestamp [ms]</th>\n",
       "      <th>y</th>\n",
       "    </tr>\n",
       "  </thead>\n",
       "  <tbody>\n",
       "    <tr>\n",
       "      <th>0</th>\n",
       "      <td>1376314846</td>\n",
       "      <td>157984.800000</td>\n",
       "    </tr>\n",
       "    <tr>\n",
       "      <th>1</th>\n",
       "      <td>1376315146</td>\n",
       "      <td>160780.266667</td>\n",
       "    </tr>\n",
       "    <tr>\n",
       "      <th>2</th>\n",
       "      <td>1376315446</td>\n",
       "      <td>173362.133333</td>\n",
       "    </tr>\n",
       "    <tr>\n",
       "      <th>3</th>\n",
       "      <td>1376315746</td>\n",
       "      <td>226489.866667</td>\n",
       "    </tr>\n",
       "    <tr>\n",
       "      <th>4</th>\n",
       "      <td>1376316046</td>\n",
       "      <td>176159.733333</td>\n",
       "    </tr>\n",
       "  </tbody>\n",
       "</table>\n",
       "</div>"
      ],
      "text/plain": [
       "   Timestamp [ms]              y\n",
       "0      1376314846  157984.800000\n",
       "1      1376315146  160780.266667\n",
       "2      1376315446  173362.133333\n",
       "3      1376315746  226489.866667\n",
       "4      1376316046  176159.733333"
      ]
     },
     "execution_count": 25,
     "metadata": {},
     "output_type": "execute_result"
    }
   ],
   "source": [
    "new = df[['Timestamp [ms]', '\tMemory usage [KB]']].copy()\n",
    "df['ds'] = pd.to_datetime(df['Timestamp [ms]'])\n",
    "new.rename(columns={'\tMemory usage [KB]':'y'}, inplace=True)\n",
    "\n",
    "new.head()"
   ]
  },
  {
   "cell_type": "code",
   "execution_count": null,
   "metadata": {},
   "outputs": [],
   "source": [
    "m = Prophet()\n",
    "m.fit(df)"
   ]
  }
 ],
 "metadata": {
  "kernelspec": {
   "display_name": "Python 3",
   "language": "python",
   "name": "python3"
  },
  "language_info": {
   "codemirror_mode": {
    "name": "ipython",
    "version": 3
   },
   "file_extension": ".py",
   "mimetype": "text/x-python",
   "name": "python",
   "nbconvert_exporter": "python",
   "pygments_lexer": "ipython3",
   "version": "3.6.7"
  }
 },
 "nbformat": 4,
 "nbformat_minor": 2
}
